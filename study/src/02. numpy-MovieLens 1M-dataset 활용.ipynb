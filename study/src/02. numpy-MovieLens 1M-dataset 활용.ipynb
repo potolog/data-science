{
 "cells": [
  {
   "cell_type": "markdown",
   "metadata": {},
   "source": [
    "### numpy를 사용한 데이터 분석 맛보기"
   ]
  },
  {
   "cell_type": "code",
   "execution_count": 1,
   "metadata": {},
   "outputs": [],
   "source": [
    "import numpy as np"
   ]
  },
  {
   "cell_type": "code",
   "execution_count": 2,
   "metadata": {},
   "outputs": [
    {
     "name": "stdout",
     "output_type": "stream",
     "text": [
      "[[        1      1193         5 978300760]\n",
      " [        1       661         3 978302109]\n",
      " [        1       914         3 978301968]\n",
      " ...\n",
      " [     6040       562         5 956704746]\n",
      " [     6040      1096         4 956715648]\n",
      " [     6040      1097         4 956715569]]\n"
     ]
    }
   ],
   "source": [
    "# 파일 읽기\n",
    "# 1컬럼 : user id : 1 ~ 6040\n",
    "# 2컬럼 : 영화 id : 1 ~ 3592\n",
    "# 3컬럼 : 영화평점 : 1 ~ 5\n",
    "# 4컬럼 : 타임스탬프\n",
    "# 5컬럼 : \n",
    "data = np.loadtxt(\"data/movielens-1m/ratings.dat\", delimiter=\"::\", dtype=np.int64)\n",
    "print(data)"
   ]
  },
  {
   "cell_type": "code",
   "execution_count": 3,
   "metadata": {},
   "outputs": [
    {
     "data": {
      "text/plain": [
       "array([[        1,      1193,         5, 978300760],\n",
       "       [        1,       661,         3, 978302109],\n",
       "       [        1,       914,         3, 978301968],\n",
       "       [        1,      3408,         4, 978300275],\n",
       "       [        1,      2355,         5, 978824291]], dtype=int64)"
      ]
     },
     "execution_count": 3,
     "metadata": {},
     "output_type": "execute_result"
    }
   ],
   "source": [
    "# 맨 앞의 5행의 데이터만 보기\n",
    "data[:5, :]"
   ]
  },
  {
   "cell_type": "code",
   "execution_count": 4,
   "metadata": {},
   "outputs": [
    {
     "name": "stdout",
     "output_type": "stream",
     "text": [
      "영화평점 :  [5 3 3 ... 5 4 4]\n",
      "평점 평균 :  3.581564453029317\n",
      "평점의 고유값 :  [1 2 3 4 5]\n"
     ]
    }
   ],
   "source": [
    "# 영화평점 컴럼만 선택\n",
    "print(\"영화평점 : \", data[:, 2])\n",
    "\n",
    "# 전체 평점의 평균 구하기\n",
    "print('평점 평균 : ', data[:, 2].mean())\n",
    "print('평점의 고유값 : ', np.unique(data[:, 2]))"
   ]
  },
  {
   "cell_type": "code",
   "execution_count": 5,
   "metadata": {},
   "outputs": [
    {
     "name": "stdout",
     "output_type": "stream",
     "text": [
      "user ids :  [   1    2    3 ... 6038 6039 6040]\n",
      "user ids shape:  (6040,)\n"
     ]
    }
   ],
   "source": [
    "# unique 한 user id 값 출력하기\n",
    "user_ids = np.unique(data[:, 0])\n",
    "print('user ids : ', user_ids)\n",
    "print('user ids shape: ', user_ids.shape)"
   ]
  },
  {
   "cell_type": "code",
   "execution_count": 6,
   "metadata": {},
   "outputs": [],
   "source": [
    "# 각 사용자별(user id) 평점(rating)의 평균 구하기\n",
    "user_ids = np.unique(data[:, 0])   # unique 한 User ID 가져 오기\n",
    "mean_rating_by_user_list = []      # user id 와 평점을 저장할 배열 선언\n",
    "for user_id in user_ids:\n",
    "    data_for_user = data[data[:, 0] == user_id, :]  # data[:, 0] == user_id 인 row 만 추출\n",
    "    mean_rating_for_user = data_for_user[:, 2].mean()  # 평점의 평균을 구하여 저장\n",
    "    mean_rating_by_user_list.append([user_id, mean_rating_for_user])  # userid 와 평균 저장"
   ]
  },
  {
   "cell_type": "code",
   "execution_count": 7,
   "metadata": {},
   "outputs": [],
   "source": [
    "# 각 사용자별(user id) 평점(rating)의 평균 구하기\n",
    "\n",
    "#user_ids = np.unique(data[:, 0])[0:2]   # unique 한 User ID 중에서 첫번째, 두번째 id 가져 오기\n",
    "#mean_rating_by_user_list = []      # user id 와 평점을 저장할 배열 선언\n",
    "#for user_id in user_ids:\n",
    "#    data_for_user = data[data[:, 0] == user_id, :]  # data[:, 0] == user_id 인 row 만 추출\n",
    "#    print(data_for_user)\n",
    "#    print('////')\n",
    "#    mean_rating_for_user = data_for_user[:, 2].mean()  # 평점의 평균을 구하여 저장\n",
    "#    print(user_id, mean_rating_for_user)\n",
    "#    mean_rating_by_user_list.append([user_id, mean_rating_for_user])  # userid 와 평균 저장"
   ]
  },
  {
   "cell_type": "code",
   "execution_count": 8,
   "metadata": {},
   "outputs": [
    {
     "data": {
      "text/plain": [
       "array([[1.0000000e+00, 4.1886792e+00],\n",
       "       [2.0000000e+00, 3.7131784e+00],\n",
       "       [3.0000000e+00, 3.9019608e+00],\n",
       "       ...,\n",
       "       [6.0380000e+03, 3.8000000e+00],\n",
       "       [6.0390000e+03, 3.8780489e+00],\n",
       "       [6.0400000e+03, 3.5777125e+00]], dtype=float32)"
      ]
     },
     "execution_count": 8,
     "metadata": {},
     "output_type": "execute_result"
    }
   ],
   "source": [
    "# List를 numpy array 로 변환\n",
    "mean_rating_by_user_array = np.array(mean_rating_by_user_list, dtype=np.float32)\n",
    "mean_rating_by_user_array"
   ]
  },
  {
   "cell_type": "code",
   "execution_count": 10,
   "metadata": {},
   "outputs": [
    {
     "name": "stdout",
     "output_type": "stream",
     "text": [
      "(6040, 2)\n"
     ]
    }
   ],
   "source": [
    "# numpy array를 파일로 저장\n",
    "print(mean_rating_by_user_array.shape)\n",
    "np.savetxt(\"mean_rating_by_user.csv\", mean_rating_by_user_array, fmt='%.3f', delimiter=',')"
   ]
  },
  {
   "cell_type": "code",
   "execution_count": null,
   "metadata": {},
   "outputs": [],
   "source": []
  }
 ],
 "metadata": {
  "kernelspec": {
   "display_name": "Python 3",
   "language": "python",
   "name": "python3"
  },
  "language_info": {
   "codemirror_mode": {
    "name": "ipython",
    "version": 3
   },
   "file_extension": ".py",
   "mimetype": "text/x-python",
   "name": "python",
   "nbconvert_exporter": "python",
   "pygments_lexer": "ipython3",
   "version": "3.6.3"
  }
 },
 "nbformat": 4,
 "nbformat_minor": 2
}
