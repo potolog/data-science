{
 "cells": [
  {
   "cell_type": "markdown",
   "metadata": {},
   "source": [
    "## numpy 기본 사용\n",
    "### 1.1 numpy array 생성\n",
    "### 1.2 numpy의 수학함수 사용"
   ]
  },
  {
   "cell_type": "code",
   "execution_count": 1,
   "metadata": {},
   "outputs": [],
   "source": [
    "import numpy as np"
   ]
  },
  {
   "cell_type": "code",
   "execution_count": 2,
   "metadata": {},
   "outputs": [
    {
     "name": "stdout",
     "output_type": "stream",
     "text": [
      "<class 'list'>\n"
     ]
    }
   ],
   "source": [
    "data = [6, 7.5, 9, 0, 10]\n",
    "print(type(data))"
   ]
  },
  {
   "cell_type": "code",
   "execution_count": 3,
   "metadata": {},
   "outputs": [
    {
     "data": {
      "text/plain": [
       "[6, 7.5, 9, 0, 10]"
      ]
     },
     "execution_count": 3,
     "metadata": {},
     "output_type": "execute_result"
    }
   ],
   "source": [
    "data"
   ]
  },
  {
   "cell_type": "markdown",
   "metadata": {},
   "source": [
    "### numpy array"
   ]
  },
  {
   "cell_type": "code",
   "execution_count": 4,
   "metadata": {},
   "outputs": [],
   "source": [
    "# array 의 데이터형\n",
    "arr = np.array(data)"
   ]
  },
  {
   "cell_type": "code",
   "execution_count": 5,
   "metadata": {},
   "outputs": [
    {
     "name": "stdout",
     "output_type": "stream",
     "text": [
      "(5,)\n"
     ]
    },
    {
     "data": {
      "text/plain": [
       "array([ 6. ,  7.5,  9. ,  0. , 10. ])"
      ]
     },
     "execution_count": 5,
     "metadata": {},
     "output_type": "execute_result"
    }
   ],
   "source": [
    "# array 생성\n",
    "arr = np.array(data)\n",
    "print(arr.shape)\n",
    "arr"
   ]
  },
  {
   "cell_type": "code",
   "execution_count": 6,
   "metadata": {},
   "outputs": [
    {
     "data": {
      "text/plain": [
       "array([1., 1., 1., 1., 1., 1., 1., 1., 1., 1.])"
      ]
     },
     "execution_count": 6,
     "metadata": {},
     "output_type": "execute_result"
    }
   ],
   "source": [
    "# 모든 값이 1인 배열 생성\n",
    "np.ones(10)"
   ]
  },
  {
   "cell_type": "code",
   "execution_count": 7,
   "metadata": {},
   "outputs": [
    {
     "data": {
      "text/plain": [
       "array([[1., 0., 0., 0.],\n",
       "       [0., 1., 0., 0.],\n",
       "       [0., 0., 1., 0.],\n",
       "       [0., 0., 0., 1.]])"
      ]
     },
     "execution_count": 7,
     "metadata": {},
     "output_type": "execute_result"
    }
   ],
   "source": [
    "# 대각선의 원소가 모두 1이고, 나머지는 0인 정사각 배열 생성\n",
    "np.eye(4)"
   ]
  },
  {
   "cell_type": "code",
   "execution_count": 8,
   "metadata": {},
   "outputs": [
    {
     "name": "stdout",
     "output_type": "stream",
     "text": [
      "[ 0  1  2  3  4  5  6  7  8  9 10 11 12 13 14]\n",
      "[11 12 13 14 15 16 17 18 19]\n",
      "[2.  4.5 7.  9.5]\n"
     ]
    }
   ],
   "source": [
    "# range 함수와 유사한 arange(start, stop, step, dtype=None)\n",
    "data = np.arange(15)\n",
    "print(data)\n",
    "data = np.arange(11, 20)\n",
    "print(data)\n",
    "data = np.arange(2, 10.0, 2.5)\n",
    "print(data)\n"
   ]
  },
  {
   "cell_type": "code",
   "execution_count": 9,
   "metadata": {},
   "outputs": [
    {
     "data": {
      "text/plain": [
       "array([[7, 7, 7, 7, 7],\n",
       "       [7, 7, 7, 7, 7],\n",
       "       [7, 7, 7, 7, 7]])"
      ]
     },
     "execution_count": 9,
     "metadata": {},
     "output_type": "execute_result"
    }
   ],
   "source": [
    "# 모든 값이 특정 상수인 배열 생성\n",
    "np.full((3, 5), 7)"
   ]
  },
  {
   "cell_type": "code",
   "execution_count": 10,
   "metadata": {},
   "outputs": [
    {
     "data": {
      "text/plain": [
       "array([[0.32996148, 0.38937789, 0.52993441, 0.24873402],\n",
       "       [0.59660789, 0.90189314, 0.80438964, 0.21919611],\n",
       "       [0.32512071, 0.71173709, 0.31871879, 0.91559314]])"
      ]
     },
     "execution_count": 10,
     "metadata": {},
     "output_type": "execute_result"
    }
   ],
   "source": [
    "# 랜덤한 실수형 값을 생성해주는 배열\n",
    "np.random.random((3, 4))"
   ]
  },
  {
   "cell_type": "markdown",
   "metadata": {},
   "source": [
    "### numpy array 형변환"
   ]
  },
  {
   "cell_type": "code",
   "execution_count": 11,
   "metadata": {},
   "outputs": [
    {
     "data": {
      "text/plain": [
       "array([1, 2, 3, 4, 5], dtype=int64)"
      ]
     },
     "execution_count": 11,
     "metadata": {},
     "output_type": "execute_result"
    }
   ],
   "source": [
    "arr3 = np.array([1, 2, 3, 4, 5], dtype=np.int64)\n",
    "arr3"
   ]
  },
  {
   "cell_type": "code",
   "execution_count": 12,
   "metadata": {},
   "outputs": [
    {
     "name": "stdout",
     "output_type": "stream",
     "text": [
      "[1. 2. 3. 4. 5.]\n",
      "float64\n"
     ]
    }
   ],
   "source": [
    "# int64 를 flot64 형변환\n",
    "float_arr = arr3.astype(np.float64)\n",
    "print(float_arr)\n",
    "print(float_arr.dtype)"
   ]
  },
  {
   "cell_type": "code",
   "execution_count": 13,
   "metadata": {},
   "outputs": [
    {
     "name": "stdout",
     "output_type": "stream",
     "text": [
      "names = ['Charles' 'Soyul' 'Hayoung' 'Charles' 'Hayoung' 'Soyul' 'Soyul']\n"
     ]
    }
   ],
   "source": [
    "# array 상에서 중복값을 제외한 unique 한 값 추출하기\n",
    "names = np.array([\"Charles\", \"Soyul\", \"Hayoung\", \"Charles\", \"Hayoung\", \"Soyul\", \"Soyul\"])\n",
    "ints = np.array([3, 3, 3, 2, 2, 1, 1, 4, 4])\n",
    "print(\"names =\", names)"
   ]
  },
  {
   "cell_type": "code",
   "execution_count": 14,
   "metadata": {},
   "outputs": [
    {
     "data": {
      "text/plain": [
       "array(['Charles', 'Hayoung', 'Soyul'], dtype='<U7')"
      ]
     },
     "execution_count": 14,
     "metadata": {},
     "output_type": "execute_result"
    }
   ],
   "source": [
    "# 이름에서 중복된 값을 제거함\n",
    "np.unique(names)"
   ]
  },
  {
   "cell_type": "code",
   "execution_count": 15,
   "metadata": {},
   "outputs": [
    {
     "data": {
      "text/plain": [
       "array([1, 2, 3, 4])"
      ]
     },
     "execution_count": 15,
     "metadata": {},
     "output_type": "execute_result"
    }
   ],
   "source": [
    "# 숫자에서 중복된 값을 제거함\n",
    "np.unique(ints)"
   ]
  },
  {
   "cell_type": "markdown",
   "metadata": {},
   "source": [
    "### array 계산"
   ]
  },
  {
   "cell_type": "code",
   "execution_count": 16,
   "metadata": {},
   "outputs": [],
   "source": [
    "arr1 = np.array([[1,2,3], [4,5,6]])\n",
    "arr2 = np.array([[7,8,9], [10,11,12]])"
   ]
  },
  {
   "cell_type": "code",
   "execution_count": 17,
   "metadata": {},
   "outputs": [
    {
     "name": "stdout",
     "output_type": "stream",
     "text": [
      "[[-6 -6 -6]\n",
      " [-6 -6 -6]]\n"
     ]
    }
   ],
   "source": [
    "print(arr1 - arr2)"
   ]
  },
  {
   "cell_type": "code",
   "execution_count": 18,
   "metadata": {},
   "outputs": [
    {
     "name": "stdout",
     "output_type": "stream",
     "text": [
      "[[ 3  6  9]\n",
      " [12 15 18]]\n"
     ]
    }
   ],
   "source": [
    "print(arr1 * 3)"
   ]
  },
  {
   "cell_type": "code",
   "execution_count": 19,
   "metadata": {},
   "outputs": [
    {
     "data": {
      "text/plain": [
       "21"
      ]
     },
     "execution_count": 19,
     "metadata": {},
     "output_type": "execute_result"
    }
   ],
   "source": [
    "arr1.sum()"
   ]
  },
  {
   "cell_type": "code",
   "execution_count": 20,
   "metadata": {},
   "outputs": [
    {
     "data": {
      "text/plain": [
       "array([5, 7, 9])"
      ]
     },
     "execution_count": 20,
     "metadata": {},
     "output_type": "execute_result"
    }
   ],
   "source": [
    "# 컬럼별로 sum\n",
    "arr1.sum(axis=0)"
   ]
  },
  {
   "cell_type": "code",
   "execution_count": 21,
   "metadata": {},
   "outputs": [
    {
     "data": {
      "text/plain": [
       "array([ 6, 15])"
      ]
     },
     "execution_count": 21,
     "metadata": {},
     "output_type": "execute_result"
    }
   ],
   "source": [
    "# 행별로 sum\n",
    "arr1.sum(axis=1)"
   ]
  },
  {
   "cell_type": "code",
   "execution_count": 22,
   "metadata": {},
   "outputs": [
    {
     "data": {
      "text/plain": [
       "array([['MMM', 'ABT', 'ABBT', 'ACN'],\n",
       "       ['ACE', 'ATVI', 'ADBE', 'ADT']], dtype='<U4')"
      ]
     },
     "execution_count": 22,
     "metadata": {},
     "output_type": "execute_result"
    }
   ],
   "source": [
    "### array 형태 변형하기\n",
    "sap = np.array(['MMM', 'ABT', 'ABBT', 'ACN', 'ACE', 'ATVI', 'ADBE', 'ADT'])\n",
    "\n",
    "# 대상 배열의 모양을 바꾼다. reshape() 함수의 파라미터로 배열의 새 차원을 정의할 수 있다.\n",
    "sap2d = sap.reshape(2, 4)\n",
    "sap2d"
   ]
  },
  {
   "cell_type": "code",
   "execution_count": 23,
   "metadata": {},
   "outputs": [
    {
     "data": {
      "text/plain": [
       "array([['MMM', 'ACE'],\n",
       "       ['ABT', 'ATVI'],\n",
       "       ['ABBT', 'ADBE'],\n",
       "       ['ACN', 'ADT']], dtype='<U4')"
      ]
     },
     "execution_count": 23,
     "metadata": {},
     "output_type": "execute_result"
    }
   ],
   "source": [
    "# 2차원 배열에서는 행과 열이 뒤바뀐다.\n",
    "sap2d.T\n"
   ]
  },
  {
   "cell_type": "code",
   "execution_count": 24,
   "metadata": {},
   "outputs": [
    {
     "data": {
      "text/plain": [
       "array([[['MMM', 'ABT'],\n",
       "        ['ABBT', 'ACN']],\n",
       "\n",
       "       [['ACE', 'ATVI'],\n",
       "        ['ADBE', 'ADT']]], dtype='<U4')"
      ]
     },
     "execution_count": 24,
     "metadata": {},
     "output_type": "execute_result"
    }
   ],
   "source": [
    "# 3차원 array 생성\n",
    "sap.reshape(2, 2, 2)"
   ]
  },
  {
   "cell_type": "markdown",
   "metadata": {},
   "source": [
    "## array 인덱싱"
   ]
  },
  {
   "cell_type": "code",
   "execution_count": 25,
   "metadata": {},
   "outputs": [
    {
     "name": "stdout",
     "output_type": "stream",
     "text": [
      "[ 1  2  3  4  5  6  7  8  9 10 11 12 13 14 15 16]\n",
      "6\n",
      "[6 7 8]\n",
      "[ 1  2  3  4  5  6  7  8  9 10 11 12 13 14 15 16]\n"
     ]
    }
   ],
   "source": [
    "# 1차원 배열의 인덱싱\n",
    "arr1d = np.arange(1,17)\n",
    "print(arr1d)       # 전체\n",
    "print(arr1d[5])    # 특정 선택\n",
    "print(arr1d[5:8])  # 부분 선택\n",
    "print(arr1d[:])    # 전체 선택"
   ]
  },
  {
   "cell_type": "code",
   "execution_count": 26,
   "metadata": {},
   "outputs": [
    {
     "name": "stdout",
     "output_type": "stream",
     "text": [
      "arr2d =  [[ 1  2  3  4]\n",
      " [ 5  6  7  8]\n",
      " [ 9 10 11 12]\n",
      " [13 14 15 16]]\n",
      "8\n",
      "[[ 5  6  7  8]\n",
      " [ 9 10 11 12]]\n",
      "[[ 2  3]\n",
      " [ 6  7]\n",
      " [10 11]\n",
      " [14 15]]\n"
     ]
    }
   ],
   "source": [
    "# 2차원 배열의 인덱싱\n",
    "arr2d = arr1d.reshape(4,4)\n",
    "print(\"arr2d = \", arr2d)\n",
    "print(arr2d[1,3])  # 2행 4열\n",
    "print(arr2d[1:3, :])  # 1:2행 전체열\n",
    "print(arr2d[:, 1:3])  # 전체행, 1:3열"
   ]
  },
  {
   "cell_type": "markdown",
   "metadata": {},
   "source": [
    "### 정수 인덱싱과 슬라이싱을 비교"
   ]
  },
  {
   "cell_type": "code",
   "execution_count": 27,
   "metadata": {
    "scrolled": true
   },
   "outputs": [
    {
     "data": {
      "text/plain": [
       "array([[ 1,  2,  3,  4],\n",
       "       [ 5,  6,  7,  8],\n",
       "       [ 9, 10, 11, 12],\n",
       "       [13, 14, 15, 16]])"
      ]
     },
     "execution_count": 27,
     "metadata": {},
     "output_type": "execute_result"
    }
   ],
   "source": [
    "arr2d = np.arange(1, 17).reshape(4,4)\n",
    "arr2d"
   ]
  },
  {
   "cell_type": "code",
   "execution_count": 28,
   "metadata": {},
   "outputs": [
    {
     "name": "stdout",
     "output_type": "stream",
     "text": [
      "[5 6 7 8] (4,)\n",
      "[[5 6 7 8]] (1, 4)\n"
     ]
    }
   ],
   "source": [
    "# 두번째 행을 1차원 배열로 (정수 인덱싱과 슬라이싱 혼합 사용)\n",
    "row_r1 = arr2d[1, :]\n",
    "print(row_r1, row_r1.shape)\n",
    "\n",
    "# 두번째 행을 2차원 배열로 (슬라이싱만 사용)\n",
    "row_r2 = arr2d[1:2, :]\n",
    "print(row_r2, row_r2.shape)"
   ]
  },
  {
   "cell_type": "code",
   "execution_count": 29,
   "metadata": {},
   "outputs": [
    {
     "name": "stdout",
     "output_type": "stream",
     "text": [
      "[ 2  6 10 14] (4,)\n",
      "[[ 2]\n",
      " [ 6]\n",
      " [10]\n",
      " [14]] (4, 1)\n"
     ]
    }
   ],
   "source": [
    "# 두번째 열을 1차원 배열로 (정수 인덱싱과 슬라이싱 혼합 사용)\n",
    "col_r1 = arr2d[:, 1]\n",
    "print(col_r1, col_r1.shape)\n",
    "\n",
    "# 두번째 열을 2차원 배열로 (슬라이싱만 사용)\n",
    "col_r2 = arr2d[:, 1:2]\n",
    "print(col_r2, col_r2.shape)"
   ]
  },
  {
   "cell_type": "markdown",
   "metadata": {},
   "source": [
    "### Boolean 인덱싱"
   ]
  },
  {
   "cell_type": "code",
   "execution_count": 30,
   "metadata": {},
   "outputs": [
    {
     "name": "stdout",
     "output_type": "stream",
     "text": [
      "['자바' '파이썬' '스칼라' '자바' '코트린' '파이썬' '파이썬']\n",
      "[ True False False  True False False False]\n"
     ]
    }
   ],
   "source": [
    "names = np.array(['자바', '파이썬', '스칼라', '자바', '코트린', '파이썬', '파이썬'])\n",
    "print(names)\n",
    "print(names == '자바')"
   ]
  },
  {
   "cell_type": "code",
   "execution_count": 31,
   "metadata": {},
   "outputs": [
    {
     "name": "stdout",
     "output_type": "stream",
     "text": [
      "['스칼라' '자바' '자바' '코트린' '파이썬' '파이썬' '파이썬']\n",
      "['파이썬' '파이썬' '파이썬' '코트린' '자바' '자바' '스칼라']\n",
      "['스칼라' '자바' '코트린' '파이썬']\n"
     ]
    }
   ],
   "source": [
    "# ascending sort\n",
    "print(np.sort(names))\n",
    "\n",
    "# descending sort\n",
    "print(np.sort(names)[::-1])\n",
    "\n",
    "# unique 한 값만 출력\n",
    "print(np.unique(names))"
   ]
  },
  {
   "cell_type": "code",
   "execution_count": 32,
   "metadata": {},
   "outputs": [
    {
     "data": {
      "text/plain": [
       "array([ True, False, False,  True, False, False, False])"
      ]
     },
     "execution_count": 32,
     "metadata": {},
     "output_type": "execute_result"
    }
   ],
   "source": [
    "# array 값 중에서 '자바' 인 것을 확인\n",
    "names == '자바'"
   ]
  },
  {
   "cell_type": "code",
   "execution_count": 33,
   "metadata": {},
   "outputs": [
    {
     "data": {
      "text/plain": [
       "array([[2, 2, 5, 0],\n",
       "       [6, 6, 7, 0],\n",
       "       [2, 1, 4, 3],\n",
       "       [0, 2, 6, 7],\n",
       "       [6, 7, 2, 5],\n",
       "       [3, 6, 1, 6],\n",
       "       [6, 0, 7, 0]])"
      ]
     },
     "execution_count": 33,
     "metadata": {},
     "output_type": "execute_result"
    }
   ],
   "source": [
    "# 0 ~ 7 까지의 랜덤한 정수형 숫자 배열 생성\n",
    "numbers = np.random.randint(8, size=(7,4))\n",
    "numbers"
   ]
  },
  {
   "cell_type": "code",
   "execution_count": 34,
   "metadata": {},
   "outputs": [
    {
     "data": {
      "text/plain": [
       "array([[2, 2, 5, 0],\n",
       "       [0, 2, 6, 7]])"
      ]
     },
     "execution_count": 34,
     "metadata": {},
     "output_type": "execute_result"
    }
   ],
   "source": [
    "numbers[names == '자바']"
   ]
  },
  {
   "cell_type": "code",
   "execution_count": 35,
   "metadata": {},
   "outputs": [
    {
     "name": "stdout",
     "output_type": "stream",
     "text": [
      "['자바' '파이썬' '스칼라' '자바' '코트린' '파이썬' '파이썬']\n",
      "[ True  True False  True False  True  True]\n",
      "[[2 2 5 0]\n",
      " [6 6 7 0]\n",
      " [0 2 6 7]\n",
      " [3 6 1 6]\n",
      " [6 0 7 0]]\n",
      "[[2 2 5 0]\n",
      " [6 6 7 0]\n",
      " [0 2 6 7]\n",
      " [3 6 1 6]\n",
      " [6 0 7 0]]\n"
     ]
    }
   ],
   "source": [
    "# or 조건식\n",
    "print(names)\n",
    "print((names == '자바') | (names == '파이썬'))\n",
    "print(numbers[(names == '자바') | (names == '파이썬')])\n",
    "\n",
    "flag = (names == '자바') | (names == '파이썬')\n",
    "print(numbers[flag])"
   ]
  },
  {
   "cell_type": "code",
   "execution_count": 38,
   "metadata": {},
   "outputs": [
    {
     "name": "stdout",
     "output_type": "stream",
     "text": [
      "[[0 0 1 0]\n",
      " [2 1 2 0]\n",
      " [2 2 4 0]\n",
      " [3 2 5 3]\n",
      " [6 6 6 5]\n",
      " [6 6 7 6]\n",
      " [6 7 7 7]]\n"
     ]
    }
   ],
   "source": [
    "# 2차원 배열 열 방향으로 sort 하기\n",
    "print(np.sort(numbers, axis=0))"
   ]
  },
  {
   "cell_type": "code",
   "execution_count": 39,
   "metadata": {},
   "outputs": [
    {
     "name": "stdout",
     "output_type": "stream",
     "text": [
      "[[0 2 2 5]\n",
      " [0 6 6 7]\n",
      " [1 2 3 4]\n",
      " [0 2 6 7]\n",
      " [2 5 6 7]\n",
      " [1 3 6 6]\n",
      " [0 0 6 7]]\n"
     ]
    }
   ],
   "source": [
    "# 2차원 배열 행 방향으로 sort 하기\n",
    "print(np.sort(numbers, axis=1))"
   ]
  },
  {
   "cell_type": "code",
   "execution_count": 45,
   "metadata": {},
   "outputs": [
    {
     "name": "stdout",
     "output_type": "stream",
     "text": [
      "[[2 2 5 0]\n",
      " [6 6 7 0]\n",
      " [2 1 4 3]\n",
      " [0 2 6 7]\n",
      " [6 7 2 5]\n",
      " [3 6 1 6]\n",
      " [6 0 7 0]]\n",
      "[0 0 3 7 5 6 0]\n",
      "[ True  True False False False False  True]\n",
      "[[2 2 5 0]\n",
      " [6 6 7 0]\n",
      " [6 0 7 0]]\n",
      "[[2 5]\n",
      " [6 7]\n",
      " [0 7]]\n"
     ]
    }
   ],
   "source": [
    "print(numbers)\n",
    "\n",
    "# 4열의 데이터를 가져옴\n",
    "print(numbers[:, 3])\n",
    "\n",
    "# 4열의 데이터 중에서 3보다 작은 것은\n",
    "print(numbers[:, 3] < 3)\n",
    "\n",
    "# 4열의 데이터 중에서 3보다 작은 조건을 만족하는 행의 모든 컬럼을 가져오기\n",
    "print(numbers[numbers[:, 3] < 3, :])\n",
    "\n",
    "# 4열의 데이터 중에서 3보다 작은 조건을 만족하는 행의 2,3번째 컬럼을 가져오기\n",
    "print(numbers[numbers[:, 3] < 3, 1:3])"
   ]
  }
 ],
 "metadata": {
  "kernelspec": {
   "display_name": "Python 3",
   "language": "python",
   "name": "python3"
  },
  "language_info": {
   "codemirror_mode": {
    "name": "ipython",
    "version": 3
   },
   "file_extension": ".py",
   "mimetype": "text/x-python",
   "name": "python",
   "nbconvert_exporter": "python",
   "pygments_lexer": "ipython3",
   "version": "3.6.3"
  }
 },
 "nbformat": 4,
 "nbformat_minor": 2
}
